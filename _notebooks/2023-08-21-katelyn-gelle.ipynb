{
 "cells": [
  {
   "cell_type": "markdown",
   "metadata": {},
   "source": [
    "---\n",
    "- title: Jupyter Notebook\n",
    "- subtitle: Katelyn Gelle\n",
    "- cover-img: /assets/img/swordplaylink.gif\n",
    "- thumbnail-img: /assets/img/heartlink.jpg\n",
    "- share-img: /assets/img/heartlink.jpg\n",
    "- gh-repo: jellinki/jellyblog\n",
    "- gh-badge: [star, fork, follow]\n",
    "- tags: [test]\n",
    "- comments: true\n",
    "---"
   ]
  },
  {
   "cell_type": "markdown",
   "metadata": {},
   "source": [
    "## XXX Bash Tutorial  \n",
    "\n",
    "A brief overview of Bash, on your way to becoming a Linux expert. \n",
    "\n",
    "So, what is bash used for?\n",
    "Bash is an application; it can be used to automate software development tasks, which makes things a lot more convenient for programmers. Bash can be used to assess, configure and optimize network performance on organizational networks.  \n",
    "\n",
    "On another note, let's test out a Python kernel below:"
   ]
  },
  {
   "cell_type": "code",
   "execution_count": 1,
   "metadata": {},
   "outputs": [
    {
     "name": "stdout",
     "output_type": "stream",
     "text": [
      "hello world\n"
     ]
    }
   ],
   "source": [
    "print(\"hello world\")"
   ]
  },
  {
   "cell_type": "markdown",
   "metadata": {},
   "source": [
    "Look, that was pretty fun! Let's see what else we can do with Python:"
   ]
  },
  {
   "cell_type": "code",
   "execution_count": null,
   "metadata": {},
   "outputs": [],
   "source": [
    "import random\n",
    "n = random.randrange(1,10)\n",
    "guess = int(input(\"guess a number: \"))\n",
    "while n!= guess:\n",
    "    if guess < n:\n",
    "        print(\"oops, too low!\")\n",
    "        guess = int(input(\"try again: \"))\n",
    "    elif guess > n:\n",
    "        print(\"oh no, too high!\")\n",
    "        guess = int(input(\"try again: \"))\n",
    "    else:\n",
    "      break\n",
    "print(\"great job, you got it!\")"
   ]
  },
  {
   "cell_type": "markdown",
   "metadata": {},
   "source": [
    "Okay, above, this is a short program that is a sort of guessing-game. The player can guess one of the computer's randomly generated numbers from 1 to 10."
   ]
  }
 ],
 "metadata": {
  "kernelspec": {
   "display_name": "Python 3",
   "language": "python",
   "name": "python3"
  },
  "language_info": {
   "codemirror_mode": {
    "name": "ipython",
    "version": 3
   },
   "file_extension": ".py",
   "mimetype": "text/x-python",
   "name": "python",
   "nbconvert_exporter": "python",
   "pygments_lexer": "ipython3",
   "version": "3.10.8"
  },
  "orig_nbformat": 4
 },
 "nbformat": 4,
 "nbformat_minor": 2
}
