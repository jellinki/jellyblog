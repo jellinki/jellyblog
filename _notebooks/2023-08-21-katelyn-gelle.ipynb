{
 "cells": [
  {
   "cell_type": "markdown",
   "metadata": {},
   "source": [
    "---\n",
    "- title: Jupyter Notebook\n",
    "- subtitle: Katelyn Gelle\n",
    "- cover-img: /assets/img/swordplaylink.gif\n",
    "- thumbnail-img: /assets/img/heartlink.jpg\n",
    "- share-img: /assets/img/heartlink.jpg\n",
    "- gh-repo: jellinki/jellyblog\n",
    "- gh-badge: [star, fork, follow]\n",
    "- tags: [test]\n",
    "- comments: true\n",
    "---"
   ]
  },
  {
   "cell_type": "markdown",
   "metadata": {},
   "source": [
    "## XXX Bash Tutorial  \n",
    "\n",
    "A brief overview of Bash, on your way to becoming a Linux expert. \n",
    "\n",
    "So, what is bash used for?\n",
    "Bash is an application; it can be used to automate software development tasks, which makes things a lot more convenient for programmers. Bash can be used to assess, configure and optimize network performance on organizational networks."
   ]
  },
  {
   "cell_type": "code",
   "execution_count": 1,
   "metadata": {},
   "outputs": [
    {
     "name": "stdout",
     "output_type": "stream",
     "text": [
      "hello world\n"
     ]
    }
   ],
   "source": [
    "print(\"hello world\")"
   ]
  }
 ],
 "metadata": {
  "kernelspec": {
   "display_name": "Python 3",
   "language": "python",
   "name": "python3"
  },
  "language_info": {
   "codemirror_mode": {
    "name": "ipython",
    "version": 3
   },
   "file_extension": ".py",
   "mimetype": "text/x-python",
   "name": "python",
   "nbconvert_exporter": "python",
   "pygments_lexer": "ipython3",
   "version": "3.10.8"
  },
  "orig_nbformat": 4
 },
 "nbformat": 4,
 "nbformat_minor": 2
}
