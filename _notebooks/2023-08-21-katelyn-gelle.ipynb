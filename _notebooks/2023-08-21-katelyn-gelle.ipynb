{
 "cells": [
  {
   "cell_type": "markdown",
   "metadata": {},
   "source": [
    "---\n",
    "- title: Java Notebook\n",
    "- subtitle: Katelyn Gelle\n",
    "- cover-img: /assets/img/swordplaylink.gif\n",
    "- thumbnail-img: /assets/img/waitinglink.jpg\n",
    "- share-img: /assets/img/waitinglink.jpg\n",
    "- gh-repo: jellinki/jellyblog\n",
    "- gh-badge: [star, fork, follow]\n",
    "- tags: [test]\n",
    "- comments: true\n",
    "---"
   ]
  }
 ],
 "metadata": {
  "language_info": {
   "name": "python"
  },
  "orig_nbformat": 4
 },
 "nbformat": 4,
 "nbformat_minor": 2
}
